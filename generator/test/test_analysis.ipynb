{
 "cells": [
  {
   "cell_type": "code",
   "execution_count": 1,
   "metadata": {},
   "outputs": [],
   "source": [
    "import argparse\n",
    "from os.path import exists\n",
    "# import confusionmatrix\n",
    "import os\n",
    "import warnings\n",
    "from demv import DEMV\n",
    "from utils import *\n",
    "# import getdataset\n",
    "from fairlearn.reductions import ExponentiatedGradient, BoundedGroupLoss, ZeroOneLoss, GridSearch\n",
    "from sklearn.neural_network import MLPClassifier\n",
    "from sklearn.svm import SVC\n",
    "from sklearn.ensemble import GradientBoostingClassifier\n",
    "from sklearn.pipeline import Pipeline\n",
    "from sklearn.preprocessing import StandardScaler\n",
    "from sklearn.linear_model import LogisticRegression\n",
    "import sys\n",
    "sys.path.append('../')\n",
    "warnings.filterwarnings('ignore')\n",
    "\n",
    "%load_ext autoreload\n",
    "%autoreload 2"
   ]
  },
  {
   "cell_type": "code",
   "execution_count": 41,
   "metadata": {},
   "outputs": [],
   "source": [
    "ML_METHODS = {\n",
    "    'logreg': LogisticRegression(),\n",
    "    'svm': SVC()\n",
    "}\n",
    "FAIRNESS_METHODS = ['demv', 'eg', 'grid']\n",
    "METRICS = ['disparate_impact', 'statistical_parity', 'equalized_odds', 'accuracy', 'hmean']\n",
    "metrics = {\n",
    "    'stat_par': [],\n",
    "    'eq_odds': [],\n",
    "    'zero_one_loss': [],\n",
    "    'disp_imp': [],\n",
    "    'acc': [],\n",
    "    'hmean': []\n",
    "}"
   ]
  },
  {
   "cell_type": "code",
   "execution_count": 42,
   "metadata": {},
   "outputs": [],
   "source": [
    "data = pd.read_csv('data/cmc.data', names=['wife_age', 'wife_edu', 'hus_edu',\n",
    "                   'num_child', 'wife_religion', 'wife_work', 'hus_occ', 'living', 'media', 'contr_use'])\n",
    "label = 'contr_use'\n",
    "sensitive_features = ['wife_religion', 'wife_work']\n",
    "unpriv_group = {'wife_religion': 1, 'wife_work': 1}\n",
    "positive_label= 2"
   ]
  },
  {
   "cell_type": "code",
   "execution_count": 43,
   "metadata": {},
   "outputs": [],
   "source": [
    "ris = pd.DataFrame()"
   ]
  },
  {
   "cell_type": "code",
   "execution_count": 44,
   "metadata": {},
   "outputs": [],
   "source": [
    "for m in ML_METHODS:\n",
    "  if m == 'logreg':\n",
    "    classifier = LogisticRegression()\n",
    "  if m == 'svm':\n",
    "    classifier = SVC()\n",
    "  else:\n",
    "    classifier = GradientBoostingClassifier()\n",
    "  model = Pipeline([\n",
    "    ('scaler', StandardScaler()),\n",
    "    ('classifier', classifier)\n",
    "  ])\n",
    "  for f in FAIRNESS_METHODS:\n",
    "    model = deepcopy(model)\n",
    "    data = data.copy()\n",
    "    if f == 'no_one':\n",
    "      fair_model, metrics = cross_val(model, data, label, unpriv_group, sensitive_features, positive_label)\n",
    "    if f == 'demv':\n",
    "      demv = DEMV(round_level=1)\n",
    "      fair_model, metrics = cross_val(\n",
    "          model, data, label, unpriv_group, sensitive_features, positive_label, debiaser=demv)\n",
    "    if f == 'eg':\n",
    "      constr = BoundedGroupLoss(ZeroOneLoss(),upper_bound=0.1)\n",
    "      eg = ExponentiatedGradient(model, constraints=constr, sample_weight_name=\"classifier__sample_weight\")\n",
    "      fair_model, metrics = cross_val(\n",
    "          eg, data, label, unpriv_group, sensitive_features, positive_label, exp=True)\n",
    "    else:\n",
    "      constr = BoundedGroupLoss(ZeroOneLoss(), upper_bound=0.1)\n",
    "      grid = GridSearch(\n",
    "          model, constraints=constr, sample_weight_name=\"classifier__sample_weight\")\n",
    "      fair_model, metrics = cross_val(\n",
    "          grid, data, label, unpriv_group, sensitive_features, positive_label, exp=True)\n",
    "    df_metrics = pd.DataFrame(metrics)\n",
    "    df_metrics = df_metrics.explode(list(df_metrics.columns))\n",
    "    df_metrics['model'] = m\n",
    "    df_metrics['fairness_method'] = f\n",
    "    ris = ris.append(df_metrics)"
   ]
  },
  {
   "cell_type": "code",
   "execution_count": 57,
   "metadata": {},
   "outputs": [
    {
     "data": {
      "text/html": [
       "<div>\n",
       "<style scoped>\n",
       "    .dataframe tbody tr th:only-of-type {\n",
       "        vertical-align: middle;\n",
       "    }\n",
       "\n",
       "    .dataframe tbody tr th {\n",
       "        vertical-align: top;\n",
       "    }\n",
       "\n",
       "    .dataframe thead th {\n",
       "        text-align: right;\n",
       "    }\n",
       "</style>\n",
       "<table border=\"1\" class=\"dataframe\">\n",
       "  <thead>\n",
       "    <tr style=\"text-align: right;\">\n",
       "      <th></th>\n",
       "      <th>stat_par</th>\n",
       "      <th>eq_odds</th>\n",
       "      <th>zero_one_loss</th>\n",
       "      <th>disp_imp</th>\n",
       "      <th>acc</th>\n",
       "      <th>hmean</th>\n",
       "    </tr>\n",
       "    <tr>\n",
       "      <th>fairness_method</th>\n",
       "      <th></th>\n",
       "      <th></th>\n",
       "      <th></th>\n",
       "      <th></th>\n",
       "      <th></th>\n",
       "      <th></th>\n",
       "    </tr>\n",
       "  </thead>\n",
       "  <tbody>\n",
       "    <tr>\n",
       "      <th>eg</th>\n",
       "      <td>-0.099442</td>\n",
       "      <td>0.171602</td>\n",
       "      <td>0.323072</td>\n",
       "      <td>0.603158</td>\n",
       "      <td>0.546481</td>\n",
       "      <td>0.668711</td>\n",
       "    </tr>\n",
       "    <tr>\n",
       "      <th>grid</th>\n",
       "      <td>-0.124971</td>\n",
       "      <td>0.244910</td>\n",
       "      <td>0.246549</td>\n",
       "      <td>0.464498</td>\n",
       "      <td>0.437537</td>\n",
       "      <td>0.492534</td>\n",
       "    </tr>\n",
       "    <tr>\n",
       "      <th>demv</th>\n",
       "      <td>-0.128669</td>\n",
       "      <td>0.237804</td>\n",
       "      <td>0.272517</td>\n",
       "      <td>0.453334</td>\n",
       "      <td>0.441607</td>\n",
       "      <td>0.488290</td>\n",
       "    </tr>\n",
       "  </tbody>\n",
       "</table>\n",
       "</div>"
      ],
      "text/plain": [
       "                 stat_par   eq_odds  zero_one_loss  disp_imp       acc  \\\n",
       "fairness_method                                                          \n",
       "eg              -0.099442  0.171602       0.323072  0.603158  0.546481   \n",
       "grid            -0.124971  0.244910       0.246549  0.464498  0.437537   \n",
       "demv            -0.128669  0.237804       0.272517  0.453334  0.441607   \n",
       "\n",
       "                    hmean  \n",
       "fairness_method            \n",
       "eg               0.668711  \n",
       "grid             0.492534  \n",
       "demv             0.488290  "
      ]
     },
     "execution_count": 57,
     "metadata": {},
     "output_type": "execute_result"
    }
   ],
   "source": [
    "ris.groupby(['fairness_method']).agg(np.mean).sort_values('hmean',ascending=False)"
   ]
  }
 ],
 "metadata": {
  "kernelspec": {
   "display_name": "Python 3.9.7 ('bias')",
   "language": "python",
   "name": "python3"
  },
  "language_info": {
   "codemirror_mode": {
    "name": "ipython",
    "version": 3
   },
   "file_extension": ".py",
   "mimetype": "text/x-python",
   "name": "python",
   "nbconvert_exporter": "python",
   "pygments_lexer": "ipython3",
   "version": "3.9.7"
  },
  "orig_nbformat": 4,
  "vscode": {
   "interpreter": {
    "hash": "f36660097003772f6a2e810a18e5144262fcf7d774086471902154136ac1d08b"
   }
  }
 },
 "nbformat": 4,
 "nbformat_minor": 2
}
